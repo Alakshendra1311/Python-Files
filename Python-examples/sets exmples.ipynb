{
 "cells": [
  {
   "cell_type": "code",
   "execution_count": 24,
   "metadata": {},
   "outputs": [
    {
     "name": "stdout",
     "output_type": "stream",
     "text": [
      "{'New York', 'Salvador', 'Alabtros', 'Brasilia', 'Calgary', 'Texas', 'Toronto', 'Seatle'}\n",
      "{'Brasilia', 'Salvador', 'Seatle', 'Alabtros'}\n"
     ]
    }
   ],
   "source": [
    "#eur_c={'UK', 'Germany', 'Italy', 'poland','Denmark', 'Poland', 'Germany'}\n",
    "#print(eur_c)\n",
    "#for x in eur_c:\n",
    "    #print(x)\n",
    "#---------------------\n",
    "#to check for a value\n",
    "#print('Italy ' in eur_c)\n",
    "#y='Denmark' in eur_c\n",
    "#print(y)\n",
    "\n",
    "#eur_c.add('France')\n",
    "#print(eur_c)\n",
    "#------------------------\n",
    "#add multiple items to sets by update fnction\n",
    "#eur_c.update('Romania')\n",
    "#print(eur_c)\n",
    "#print(len(eur_c))\n",
    "#-----------\n",
    "#to remove an element of a sets\n",
    "#--------------\n",
    "#asia_t={'Japan', 'South Korea', 'taiwan', 'Singapore', 'Bangladesh'}\n",
    "#print(asia_t)\n",
    "#asia_t.remove('Bangla_desh ')\n",
    "#print(asia_t)\n",
    "#asia_t.discard('Bangladesh ')\n",
    "#print(asia_t)\n",
    "#w=asia_t.pop()\n",
    "#print(w)\n",
    "#print(asia_t)\n",
    "#-------------------------\n",
    "#joining the two sets\n",
    "#-------------------------\n",
    "n_amer={'New York', 'Toronto', 'Texas', 'Seatle', 'Calgary'}\n",
    "s_amer={'Brasilia', 'Salvador', 'Alabtros','Seatle'}\n",
    "#f_amer=n_amer.union(s_amer)\n",
    "#print(f_amer)\n",
    "n_amer.update(s_amer)\n",
    "print(n_amer)\n",
    "print(s_amer)"
   ]
  },
  {
   "cell_type": "code",
   "execution_count": null,
   "metadata": {},
   "outputs": [],
   "source": []
  }
 ],
 "metadata": {
  "kernelspec": {
   "display_name": "Python 3",
   "language": "python",
   "name": "python3"
  },
  "language_info": {
   "codemirror_mode": {
    "name": "ipython",
    "version": 3
   },
   "file_extension": ".py",
   "mimetype": "text/x-python",
   "name": "python",
   "nbconvert_exporter": "python",
   "pygments_lexer": "ipython3",
   "version": "3.7.4"
  }
 },
 "nbformat": 4,
 "nbformat_minor": 2
}
