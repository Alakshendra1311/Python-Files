{
 "cells": [
  {
   "cell_type": "code",
   "execution_count": 2,
   "metadata": {},
   "outputs": [
    {
     "name": "stdout",
     "output_type": "stream",
     "text": [
      "Saturn\n",
      "Gaseous\n",
      "Venus\n",
      "Rocky\n"
     ]
    }
   ],
   "source": [
    "def tryfunc(obj):\n",
    "    obj.name()\n",
    "    obj.madeof()\n",
    "\n",
    "class planet1():\n",
    "    def name(self):\n",
    "        print(\"Saturn\")\n",
    "    def madeof(self):\n",
    "        print(\"Gaseous\")\n",
    "        \n",
    "class planet2():\n",
    "    def name(self):\n",
    "        print(\"Venus\")\n",
    "    def madeof(self):\n",
    "        print(\"Rocky\")\n",
    "        \n",
    "o1 = planet1()\n",
    "o2 = planet2()\n",
    " \n",
    "tryfunc(o1)\n",
    "tryfunc(o2)\n"
   ]
  }
 ],
 "metadata": {
  "kernelspec": {
   "display_name": "Python 3",
   "language": "python",
   "name": "python3"
  },
  "language_info": {
   "codemirror_mode": {
    "name": "ipython",
    "version": 3
   },
   "file_extension": ".py",
   "mimetype": "text/x-python",
   "name": "python",
   "nbconvert_exporter": "python",
   "pygments_lexer": "ipython3",
   "version": "3.7.4"
  }
 },
 "nbformat": 4,
 "nbformat_minor": 2
}
