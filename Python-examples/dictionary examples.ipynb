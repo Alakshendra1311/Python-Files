{
 "cells": [
  {
   "cell_type": "code",
   "execution_count": 33,
   "metadata": {},
   "outputs": [
    {
     "name": "stdout",
     "output_type": "stream",
     "text": [
      "{'red': 3, 'blue': 2, 'black': 8, 'yellow': 1, 'pink': 11}\n",
      "{'red': 3, 'blue': 2, 'black': 8, 'yellow': 1}\n"
     ]
    }
   ],
   "source": [
    "#c_cap={\n",
    "#    'India':'New Delhi',\n",
    "#    'Japan':'Tokyo',\n",
    "#    'Taiwan':'Taipai',\n",
    "#    'Australia':'Sydney',\n",
    "#    'UAE' : 'Abu Dhabi'\n",
    "#}\n",
    "#print(c_cap)\n",
    "#for x in c_cap:\n",
    "    #print(x)\n",
    "\n",
    "#print(c_cap['India'])\n",
    "#print(c_cap['UAE'])\n",
    "#print(c_cap['asu'])\n",
    "#y=c_cap.get('Taiwan')\n",
    "#print(y)\n",
    "#-------------------------\n",
    "#change the value in dictionary c_cap\n",
    "#c_cap['UAE']='Sarjah'\n",
    "#c_cap['India']='Lucknow'\n",
    "#print(c_cap)\n",
    "#---------------------\n",
    "#Print all values in the dictionary one by one\n",
    "#for x in c_cap:\n",
    " #   print(x+\"=>\")\n",
    "  #  print(c_cap[x])\n",
    "#-----------------------\n",
    "#printing by values function\n",
    "#for x,y in c_cap.items():\n",
    " #   print(x+':'+y)\n",
    "#----------------------------\n",
    "#Check if the key exist\n",
    "#if 'India' in c_cap:\n",
    " #   print('Yaah, its there' )\n",
    "cl_s={\n",
    "        'red': 3,\n",
    "         'blue': 2,\n",
    "         'black': 8,\n",
    "         'yellow': 1\n",
    "}\n",
    "#print(cl_s)\n",
    "#cl_s['blue']=9\n",
    "cl_s['pink']=11\n",
    "#print(cl_s)\n",
    "#-----------------------\n",
    "#remove an item\n",
    "#cl_s.pop('black')\n",
    "#print(cl_s)\n",
    "print(cl_s)\n",
    "cl_s.popitem()\n",
    "print(cl_s)"
   ]
  }
 ],
 "metadata": {
  "kernelspec": {
   "display_name": "Python 3",
   "language": "python",
   "name": "python3"
  },
  "language_info": {
   "codemirror_mode": {
    "name": "ipython",
    "version": 3
   },
   "file_extension": ".py",
   "mimetype": "text/x-python",
   "name": "python",
   "nbconvert_exporter": "python",
   "pygments_lexer": "ipython3",
   "version": "3.7.4"
  }
 },
 "nbformat": 4,
 "nbformat_minor": 2
}
