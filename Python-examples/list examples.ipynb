{
 "cells": [
  {
   "cell_type": "code",
   "execution_count": 61,
   "metadata": {},
   "outputs": [
    {
     "name": "stdout",
     "output_type": "stream",
     "text": [
      "['sydney', 'melbourne', 'perth', 'Brisbane']\n",
      "['Day1', 0.49, 'Day2', -78, 'Day3', -56]\n",
      "['Brisbane', 'perth', 'melbourne', 'sydney']\n"
     ]
    }
   ],
   "source": [
    "#fruits= ['apple', 'mango', 'banana', 'guava']\n",
    "#print(fruits)\n",
    "#list1=['box', 4, 'pencil', 7, 'eraser', 10, 'sharpner', 12]\n",
    "#print(list1[-4:-2])\n",
    "\n",
    "#list2= ['Delhi', '2cr.', 'Mumbai', '1.9cr', 'Hyderabad', '1cr', 'Lucknow', '0.5cr']\n",
    "#if 'Mumbai ' in list2:\n",
    "   # print('Yes, its there')\n",
    "#print(len(list2))\n",
    "#list2.insert(0, 'Jaipur')\n",
    "#list2.insert(1,'1.2cr')\n",
    "#print(list2)\n",
    "#list2.pop(2)\n",
    "#print(list2)\n",
    "#del list2[2]\n",
    "#print(list2)\n",
    "#del list2\n",
    "#list2.clear()\n",
    "#print(list2)\n",
    "#list3= list2.copy()\n",
    "#list3[2]= 'KOlkata'\n",
    "#print(list3)\n",
    "#print(list2)\n",
    "#list3=list(list2)\n",
    "#list3.append('Chennai')\n",
    "#print(list3)\n",
    "#print(list2)\n",
    "\n",
    "#--------------------------\n",
    "#Join two list\n",
    "#-----------------------------\n",
    "\n",
    "#amerb=['Jeff Bezos', 120, 'Bill Gates', 100, 'Warren Buffet', 90]\n",
    "#indiab=['Mukesh Ambani', 50, 'Gautam Adani', 15, 'Ratan Tata', 3]\n",
    "#worldb= amerb+indiab\n",
    "#print(amerb)\n",
    "#print(indiab)\n",
    "#print(worldb)\n",
    "#joining by append method\n",
    "#for x in indiab:\n",
    "#    amerb.append(x)\n",
    "#print(amerb)\n",
    "\n",
    "#By using extend function\n",
    "#amerb.extend(indiab)\n",
    "#print(amerb)\n",
    "\n",
    "#---------------------------------\n",
    "#creating list by list constructor\n",
    "#---------------------------------\n",
    "ausc=list(('sydney', 'melbourne', 'perth', 'Brisbane'))\n",
    "print(ausc)\n",
    "arct_temp=list(('Day1', 0.49, 'Day2', -78, 'Day3', -56))\n",
    "print(arct_temp)\n",
    "ausc.reverse()\n",
    "print(ausc)"
   ]
  },
  {
   "cell_type": "code",
   "execution_count": null,
   "metadata": {},
   "outputs": [],
   "source": []
  }
 ],
 "metadata": {
  "kernelspec": {
   "display_name": "Python 3",
   "language": "python",
   "name": "python3"
  },
  "language_info": {
   "codemirror_mode": {
    "name": "ipython",
    "version": 3
   },
   "file_extension": ".py",
   "mimetype": "text/x-python",
   "name": "python",
   "nbconvert_exporter": "python",
   "pygments_lexer": "ipython3",
   "version": "3.7.4"
  }
 },
 "nbformat": 4,
 "nbformat_minor": 2
}
