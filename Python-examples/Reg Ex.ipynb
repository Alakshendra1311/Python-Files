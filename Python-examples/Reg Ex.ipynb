{
 "cells": [
  {
   "cell_type": "code",
   "execution_count": 21,
   "metadata": {},
   "outputs": [
    {
     "name": "stdout",
     "output_type": "stream",
     "text": [
      "Enter your string: enter the string\n",
      "What do you want to replace: with\n",
      "Replace with: nothing\n",
      "How many times you want to replace: 1\n",
      "enter the string\n"
     ]
    }
   ],
   "source": [
    "import re\n",
    "#str = input(\"Enter string: \")\n",
    "#qu = input(\"Find what: \")\n",
    "#x = re.findall(qu, str)\n",
    "#print(x)\n",
    "#------------------------\n",
    "#str = input(\"Enter string : \")\n",
    "#qu = input(\"enter code: \")\n",
    "#x = re.search(qu, str)\n",
    "\n",
    "#print(qu, \"appeared at \",x.start())\n",
    "\n",
    "#--------------------------------------\n",
    "#st1 = input(\"Enter string: \")\n",
    "#req = input(\"Where you want to split: \")\n",
    "#pos = int(input(\"How many times you want to split: \"))\n",
    "#x = re.split(req, st1, pos)\n",
    "#print(x)\n",
    "#-------------------------------------------\n",
    "str = input(\"Enter your string: \")\n",
    "rep = input(\"What do you want to replace: \")\n",
    "repw = input(\"Replace with: \")\n",
    "repn = int(input(\"How many times you want to replace: \"))\n",
    "x = re.sub(rep, repw, str, repn)\n",
    "print(x)"
   ]
  }
 ],
 "metadata": {
  "kernelspec": {
   "display_name": "Python 3",
   "language": "python",
   "name": "python3"
  },
  "language_info": {
   "codemirror_mode": {
    "name": "ipython",
    "version": 3
   },
   "file_extension": ".py",
   "mimetype": "text/x-python",
   "name": "python",
   "nbconvert_exporter": "python",
   "pygments_lexer": "ipython3",
   "version": "3.7.4"
  }
 },
 "nbformat": 4,
 "nbformat_minor": 2
}
