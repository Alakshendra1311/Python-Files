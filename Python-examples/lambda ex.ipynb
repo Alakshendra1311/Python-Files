{
 "cells": [
  {
   "cell_type": "code",
   "execution_count": 1,
   "metadata": {},
   "outputs": [
    {
     "name": "stdout",
     "output_type": "stream",
     "text": [
      "Enter the number : 78\n",
      "press 1 to double it\n",
      "press 2 to triple it\n",
      "Enter your choice1\n",
      "156\n"
     ]
    }
   ],
   "source": [
    "def calc(n):\n",
    "    return lambda a : a*n \n",
    "\n",
    "\n",
    "num= int(input('Enter the number : '))\n",
    "print('press 1 to double it')\n",
    "print('press 2 to triple it')\n",
    "ch=int(input('Enter your choice'))\n",
    "\n",
    "if ch==1:\n",
    "    mynum=calc(2)\n",
    "if ch==2:\n",
    "    mynum=calc(3)\n",
    "    \n",
    "print(mynum(num))\n"
   ]
  },
  {
   "cell_type": "code",
   "execution_count": null,
   "metadata": {},
   "outputs": [],
   "source": []
  }
 ],
 "metadata": {
  "kernelspec": {
   "display_name": "Python 2",
   "language": "python",
   "name": "python2"
  },
  "language_info": {
   "codemirror_mode": {
    "name": "ipython",
    "version": 2
   },
   "file_extension": ".py",
   "mimetype": "text/x-python",
   "name": "python",
   "nbconvert_exporter": "python",
   "pygments_lexer": "ipython2",
   "version": "2.7.16"
  }
 },
 "nbformat": 4,
 "nbformat_minor": 2
}
