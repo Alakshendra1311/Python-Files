{
 "cells": [
  {
   "cell_type": "code",
   "execution_count": 36,
   "metadata": {},
   "outputs": [
    {
     "ename": "SyntaxError",
     "evalue": "invalid syntax (<ipython-input-36-138457118576>, line 23)",
     "output_type": "error",
     "traceback": [
      "\u001b[1;36m  File \u001b[1;32m\"<ipython-input-36-138457118576>\"\u001b[1;36m, line \u001b[1;32m23\u001b[0m\n\u001b[1;33m    else print('no, sorry')\u001b[0m\n\u001b[1;37m             ^\u001b[0m\n\u001b[1;31mSyntaxError\u001b[0m\u001b[1;31m:\u001b[0m invalid syntax\n"
     ]
    }
   ],
   "source": [
    "#Tuple is a collection which is ordered  and unchangeable. tupples are written with round brackets.\n",
    "#tallb=('Burj khalifa', 'taipai101', 'petrnos tower')\n",
    "#tallb[2]='Shangai Tower' => this will cause error\n",
    "#print(tallb)\n",
    "##Note => tuple are immutable so to change a value of tuple, change the tupple into a list then change the element and \n",
    "## again change the change the list into tuple\n",
    "#tallb_l=list(tallb)\n",
    "#tallb_l[2]='Shangai tower'\n",
    "#print(tallb_l)\n",
    "#tallb=tuple(tallb_l)\n",
    "#print(tallb)\n",
    "#----------------\n",
    "#Loop through a tupple\n",
    "#------------------\n",
    "#for x in tallb:\n",
    "#    print(x)\n",
    "#-----------------\n",
    "#check if item exist\n",
    "##-------------\n",
    "planets=('mars', 'earth', 'venus', 'jupiter')\n",
    "if 'mars' in planets:\n",
    "   print('Yes, its there')\n",
    "\n"
   ]
  }
 ],
 "metadata": {
  "kernelspec": {
   "display_name": "Python 3",
   "language": "python",
   "name": "python3"
  },
  "language_info": {
   "codemirror_mode": {
    "name": "ipython",
    "version": 3
   },
   "file_extension": ".py",
   "mimetype": "text/x-python",
   "name": "python",
   "nbconvert_exporter": "python",
   "pygments_lexer": "ipython3",
   "version": "3.7.4"
  }
 },
 "nbformat": 4,
 "nbformat_minor": 2
}
