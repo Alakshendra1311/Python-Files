{
 "cells": [
  {
   "cell_type": "code",
   "execution_count": 18,
   "metadata": {},
   "outputs": [
    {
     "name": "stdout",
     "output_type": "stream",
     "text": [
      "Xuv 500\n",
      "Car tax:  2.06 lacs\n",
      "Road tax:  1 lac\n"
     ]
    },
    {
     "ename": "AttributeError",
     "evalue": "'mahindra' object has no attribute '__Myclass'",
     "output_type": "error",
     "traceback": [
      "\u001b[1;31m---------------------------------------------------------------------------\u001b[0m",
      "\u001b[1;31mAttributeError\u001b[0m                            Traceback (most recent call last)",
      "\u001b[1;32m<ipython-input-18-dfd156c5590b>\u001b[0m in \u001b[0;36m<module>\u001b[1;34m\u001b[0m\n\u001b[0;32m     11\u001b[0m \u001b[0mob\u001b[0m \u001b[1;33m=\u001b[0m \u001b[0mmahindra\u001b[0m\u001b[1;33m(\u001b[0m\u001b[1;34m\"2.06 lacs\"\u001b[0m\u001b[1;33m,\u001b[0m \u001b[1;34m\"1 lac\"\u001b[0m\u001b[1;33m)\u001b[0m\u001b[1;33m\u001b[0m\u001b[1;33m\u001b[0m\u001b[0m\n\u001b[0;32m     12\u001b[0m \u001b[0mob\u001b[0m\u001b[1;33m.\u001b[0m\u001b[0mshdata\u001b[0m\u001b[1;33m(\u001b[0m\u001b[1;33m)\u001b[0m\u001b[1;33m\u001b[0m\u001b[1;33m\u001b[0m\u001b[0m\n\u001b[1;32m---> 13\u001b[1;33m \u001b[0mprint\u001b[0m\u001b[1;33m(\u001b[0m\u001b[0mob\u001b[0m\u001b[1;33m.\u001b[0m\u001b[0m__Myclass\u001b[0m\u001b[1;33m.\u001b[0m\u001b[0m__hidden\u001b[0m\u001b[1;33m)\u001b[0m\u001b[1;33m\u001b[0m\u001b[1;33m\u001b[0m\u001b[0m\n\u001b[0m\u001b[0;32m     14\u001b[0m \u001b[1;31m#print(ob.__hidden) #this will show error\u001b[0m\u001b[1;33m\u001b[0m\u001b[1;33m\u001b[0m\u001b[1;33m\u001b[0m\u001b[0m\n",
      "\u001b[1;31mAttributeError\u001b[0m: 'mahindra' object has no attribute '__Myclass'"
     ]
    }
   ],
   "source": [
    "class mahindra():\n",
    "    __hidden = \"Xuv 500\"\n",
    "    def __init__(self, ct, rt):\n",
    "        self.ct =ct\n",
    "        self.rt =rt\n",
    "    def shdata(self):\n",
    "        print(self.__hidden)\n",
    "        print(\"Car tax: \", self.ct)\n",
    "        print(\"Road tax: \", self.rt)\n",
    "        \n",
    "ob = mahindra(\"2.06 lacs\", \"1 lac\")\n",
    "ob.shdata()\n",
    "print(ob.__Myclass.__hidden)\n",
    "#print(ob.__hidden) #this will show error"
   ]
  }
 ],
 "metadata": {
  "kernelspec": {
   "display_name": "Python 3",
   "language": "python",
   "name": "python3"
  },
  "language_info": {
   "codemirror_mode": {
    "name": "ipython",
    "version": 3
   },
   "file_extension": ".py",
   "mimetype": "text/x-python",
   "name": "python",
   "nbconvert_exporter": "python",
   "pygments_lexer": "ipython3",
   "version": "3.7.4"
  }
 },
 "nbformat": 4,
 "nbformat_minor": 2
}
