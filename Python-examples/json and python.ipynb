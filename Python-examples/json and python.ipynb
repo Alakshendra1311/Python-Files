{
 "cells": [
  {
   "cell_type": "code",
   "execution_count": 16,
   "metadata": {},
   "outputs": [
    {
     "name": "stdout",
     "output_type": "stream",
     "text": [
      "32\n",
      "{\"name\" : \"Rock\", \"age\" : 32, \"salary\" : \"46k\"}\n",
      "2020-01-09 20:21:03.303512\n"
     ]
    }
   ],
   "source": [
    "#import json\n",
    "import datetime\n",
    "x = '{\"name\" : \"Rock\", \"age\" : 32, \"salary\" : \"46k\"}'\n",
    "y=json.loads(x)\n",
    "print(y['age'])\n",
    "print(x)\n",
    "da = datetime.datetime.now()\n",
    "print(da)"
   ]
  }
 ],
 "metadata": {
  "kernelspec": {
   "display_name": "Python 3",
   "language": "python",
   "name": "python3"
  },
  "language_info": {
   "codemirror_mode": {
    "name": "ipython",
    "version": 3
   },
   "file_extension": ".py",
   "mimetype": "text/x-python",
   "name": "python",
   "nbconvert_exporter": "python",
   "pygments_lexer": "ipython3",
   "version": "3.7.4"
  }
 },
 "nbformat": 4,
 "nbformat_minor": 2
}
