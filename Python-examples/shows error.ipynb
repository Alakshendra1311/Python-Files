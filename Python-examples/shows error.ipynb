{
 "cells": [
  {
   "cell_type": "code",
   "execution_count": 3,
   "metadata": {},
   "outputs": [
    {
     "name": "stdout",
     "output_type": "stream",
     "text": [
      "--------------------------------\n",
      "Saturn\n",
      "Gaseous\n",
      "None None\n",
      "Venus\n",
      "Rocky\n",
      "None None\n"
     ]
    }
   ],
   "source": [
    "class planet1():\n",
    "    def name(self):\n",
    "        print(\"Saturn\")\n",
    "    def madeof(self):\n",
    "        print(\"Gaseous\")       \n",
    "class planet2():\n",
    "    def name(self):\n",
    "        print(\"Venus\")\n",
    "    def madeof(self):\n",
    "        print(\"Rocky\")\n",
    "        \n",
    "o1 = planet1()\n",
    "# o1.name()\n",
    "# o1.madeof()\n",
    "o2 = planet2()\n",
    "# o2.name()\n",
    "# o2.madeof()\n",
    "\n",
    "print(\"--------------------------------\")\n",
    "for x in (o1, o2):\n",
    "    print(x.name(),x.madeof())\n",
    "#     print(x.madeof())\n",
    "    \n"
   ]
  },
  {
   "cell_type": "code",
   "execution_count": null,
   "metadata": {},
   "outputs": [],
   "source": []
  }
 ],
 "metadata": {
  "kernelspec": {
   "display_name": "Python 3",
   "language": "python",
   "name": "python3"
  },
  "language_info": {
   "codemirror_mode": {
    "name": "ipython",
    "version": 3
   },
   "file_extension": ".py",
   "mimetype": "text/x-python",
   "name": "python",
   "nbconvert_exporter": "python",
   "pygments_lexer": "ipython3",
   "version": "3.7.4"
  }
 },
 "nbformat": 4,
 "nbformat_minor": 2
}
