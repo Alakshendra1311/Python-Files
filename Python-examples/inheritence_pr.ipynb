{
 "cells": [
  {
   "cell_type": "code",
   "execution_count": 38,
   "metadata": {},
   "outputs": [
    {
     "name": "stdout",
     "output_type": "stream",
     "text": [
      "UN has NATO and NATO has :  USA  and  Canada\n"
     ]
    }
   ],
   "source": [
    "#   def __init__(self,oc, p1,p2):\n",
    " #       self.oc = oc\n",
    "   #     self.p1 = p1\n",
    "  #      self.p2 = p2\n",
    " #   def display(self):\n",
    " #       print(self.oc +\" has parts : \"+self.p1+\" and \"+self.p2)\n",
    " #       \n",
    "#class parts(indocean):\n",
    "#    pass\n",
    "#\n",
    "#ob1 = parts(\"Indian Ocean\", \"Arabian Sea\", \"Bay of bengal\")\n",
    "#ob1.display()\n",
    "#---------------------------------\n",
    "class un:\n",
    "    def __init__(self,c1,c2):\n",
    "        self.c1 = c1\n",
    "        self.c2 = c2\n",
    "    \n",
    "    def shdata(self):\n",
    "        print(\"UN has NATO and NATO has : \",self.c1,\" and \",self.c2)\n",
    "        \n",
    "class nato(un):\n",
    "    def __init__(self, con1, con2):\n",
    "        super().__init__(con1, con2)\n",
    "        \n",
    "o1= nato(\"USA\", \"Canada\")\n",
    "o1.shdata()"
   ]
  },
  {
   "cell_type": "code",
   "execution_count": 39,
   "metadata": {},
   "outputs": [
    {
     "name": "stdout",
     "output_type": "stream",
     "text": [
      "1\n",
      "2\n",
      "3\n",
      "4\n",
      "5\n"
     ]
    }
   ],
   "source": [
    "class MyNumbers:\n",
    "  def __iter__(self):\n",
    "    self.a = 1\n",
    "    return self\n",
    "\n",
    "  def __next__(self):\n",
    "    x = self.a\n",
    "    self.a += 1\n",
    "    return x\n",
    "\n",
    "myclass = MyNumbers()\n",
    "myiter = iter(myclass)\n",
    "\n",
    "print(next(myiter))\n",
    "print(next(myiter))\n",
    "print(next(myiter))\n",
    "print(next(myiter))\n",
    "print(next(myiter))"
   ]
  }
 ],
 "metadata": {
  "kernelspec": {
   "display_name": "Python 3",
   "language": "python",
   "name": "python3"
  },
  "language_info": {
   "codemirror_mode": {
    "name": "ipython",
    "version": 3
   },
   "file_extension": ".py",
   "mimetype": "text/x-python",
   "name": "python",
   "nbconvert_exporter": "python",
   "pygments_lexer": "ipython3",
   "version": "3.7.4"
  }
 },
 "nbformat": 4,
 "nbformat_minor": 2
}
