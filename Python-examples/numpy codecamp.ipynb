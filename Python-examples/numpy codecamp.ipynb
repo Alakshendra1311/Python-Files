{
 "cells": [
  {
   "cell_type": "code",
   "execution_count": 2,
   "metadata": {},
   "outputs": [
    {
     "name": "stdout",
     "output_type": "stream",
     "text": [
      "[[2 3 1 7 4]\n",
      " [3 8 6 1 3]]\n"
     ]
    }
   ],
   "source": [
    "import numpy as np\n",
    "a = np.array([[2, 3, 1, 7, 4], [3, 8, 6, 1, 3]], dtype =\"int32\")\n",
    "print(a)"
   ]
  },
  {
   "cell_type": "code",
   "execution_count": 27,
   "metadata": {},
   "outputs": [
    {
     "data": {
      "text/plain": [
       "2"
      ]
     },
     "execution_count": 27,
     "metadata": {},
     "output_type": "execute_result"
    }
   ],
   "source": [
    "#get dimension\n",
    "a.ndim"
   ]
  },
  {
   "cell_type": "code",
   "execution_count": 28,
   "metadata": {},
   "outputs": [
    {
     "data": {
      "text/plain": [
       "(2, 5)"
      ]
     },
     "execution_count": 28,
     "metadata": {},
     "output_type": "execute_result"
    }
   ],
   "source": [
    "#get shape\n",
    "a.shape"
   ]
  },
  {
   "cell_type": "code",
   "execution_count": 33,
   "metadata": {},
   "outputs": [
    {
     "data": {
      "text/plain": [
       "dtype('int16')"
      ]
     },
     "execution_count": 33,
     "metadata": {},
     "output_type": "execute_result"
    }
   ],
   "source": [
    "#get type\n",
    "a.dtype\n",
    "\n"
   ]
  },
  {
   "cell_type": "code",
   "execution_count": 36,
   "metadata": {},
   "outputs": [
    {
     "data": {
      "text/plain": [
       "4"
      ]
     },
     "execution_count": 36,
     "metadata": {},
     "output_type": "execute_result"
    }
   ],
   "source": [
    "#\n",
    "a.itemsize"
   ]
  },
  {
   "cell_type": "code",
   "execution_count": 37,
   "metadata": {},
   "outputs": [
    {
     "data": {
      "text/plain": [
       "10"
      ]
     },
     "execution_count": 37,
     "metadata": {},
     "output_type": "execute_result"
    }
   ],
   "source": [
    "#\n",
    "a.size"
   ]
  },
  {
   "cell_type": "code",
   "execution_count": 38,
   "metadata": {},
   "outputs": [
    {
     "data": {
      "text/plain": [
       "1"
      ]
     },
     "execution_count": 38,
     "metadata": {},
     "output_type": "execute_result"
    }
   ],
   "source": [
    "#get specific element\n",
    "a[1][3]"
   ]
  },
  {
   "cell_type": "code",
   "execution_count": 49,
   "metadata": {},
   "outputs": [
    {
     "data": {
      "text/plain": [
       "array([2.1, 1.4, 2.9, 5.9, 7. , 3. , 8. , 1. ])"
      ]
     },
     "execution_count": 49,
     "metadata": {},
     "output_type": "execute_result"
    }
   ],
   "source": [
    "#specific row\n",
    "b= np.array([[2.1, 1.4, 2.9, 5.9, 7, 3, 8, 1], [2.6, 5.9, 1.7, 3.5, 7, 3, 9, 0]])\n",
    "b[0, :]"
   ]
  },
  {
   "cell_type": "code",
   "execution_count": 50,
   "metadata": {},
   "outputs": [
    {
     "data": {
      "text/plain": [
       "array([1.4, 5.9, 3. ])"
      ]
     },
     "execution_count": 50,
     "metadata": {},
     "output_type": "execute_result"
    }
   ],
   "source": [
    "#speciifc coloumn\n",
    "b[0, 1:6:2]"
   ]
  },
  {
   "cell_type": "code",
   "execution_count": 57,
   "metadata": {},
   "outputs": [
    {
     "name": "stdout",
     "output_type": "stream",
     "text": [
      "[[2 3 4 5 6]\n",
      " [8 7 2 1 2]\n",
      " [5 4 6 7 8]\n",
      " [9 3 5 1 7]]\n"
     ]
    }
   ],
   "source": [
    "c = np.array([[2, 3, 4, 5, 6], [8, 7, 2, 1, 2], [5, 4, 6, 7, 8], [9, 3, 5, 1, 7]])\n",
    "print(c)\n",
    "#print(c[2:4, 2:])"
   ]
  },
  {
   "cell_type": "code",
   "execution_count": 59,
   "metadata": {},
   "outputs": [
    {
     "data": {
      "text/plain": [
       "array([[2, 3, 4, 5, 6],\n",
       "       [8, 7, 6, 1, 2],\n",
       "       [5, 4, 6, 7, 8],\n",
       "       [9, 3, 5, 1, 7]])"
      ]
     },
     "execution_count": 59,
     "metadata": {},
     "output_type": "execute_result"
    }
   ],
   "source": [
    "c[1,2]= 6\n",
    "c"
   ]
  },
  {
   "cell_type": "code",
   "execution_count": 19,
   "metadata": {},
   "outputs": [
    {
     "data": {
      "text/plain": [
       "6"
      ]
     },
     "execution_count": 19,
     "metadata": {},
     "output_type": "execute_result"
    }
   ],
   "source": [
    "#3d array\n",
    "k = np.array([[[2, 1, 3],\n",
    "               [3, 1, 3]],\n",
    "              [[2, 9, 0],\n",
    "               [1, 6, 4]],\n",
    "              [[6, 9, 5],\n",
    "               [2, 6, 0]]])\n",
    "k[1,1,1]"
   ]
  },
  {
   "cell_type": "code",
   "execution_count": 66,
   "metadata": {},
   "outputs": [
    {
     "data": {
      "text/plain": [
       "array([[[ 2,  1,  3],\n",
       "        [ 3, 13, 13]],\n",
       "\n",
       "       [[ 2,  9,  0],\n",
       "        [ 1, 13, 13]],\n",
       "\n",
       "       [[ 6,  9,  5],\n",
       "        [ 2,  6,  0]]])"
      ]
     },
     "execution_count": 66,
     "metadata": {},
     "output_type": "execute_result"
    }
   ],
   "source": [
    "k[:2, 1, 1:] = [[13, 13],\n",
    "                [13, 13]]\n",
    "k"
   ]
  },
  {
   "cell_type": "code",
   "execution_count": 10,
   "metadata": {},
   "outputs": [
    {
     "data": {
      "text/plain": [
       "array([[[0., 0., 0., 0., 0.],\n",
       "        [0., 0., 0., 0., 0.],\n",
       "        [0., 0., 0., 0., 0.],\n",
       "        [0., 0., 0., 0., 0.]],\n",
       "\n",
       "       [[0., 0., 0., 0., 0.],\n",
       "        [0., 0., 0., 0., 0.],\n",
       "        [0., 0., 0., 0., 0.],\n",
       "        [0., 0., 0., 0., 0.]]])"
      ]
     },
     "execution_count": 10,
     "metadata": {},
     "output_type": "execute_result"
    }
   ],
   "source": [
    "#all zeros matrix\n",
    "np.zeros((2,4, 5))"
   ]
  },
  {
   "cell_type": "code",
   "execution_count": 14,
   "metadata": {},
   "outputs": [
    {
     "data": {
      "text/plain": [
       "array([[[1],\n",
       "        [1],\n",
       "        [1]],\n",
       "\n",
       "       [[1],\n",
       "        [1],\n",
       "        [1]]], dtype=int64)"
      ]
     },
     "execution_count": 14,
     "metadata": {},
     "output_type": "execute_result"
    }
   ],
   "source": [
    "#all one matrix\n",
    "np.ones((2, 3, 1), dtype = 'int64')"
   ]
  },
  {
   "cell_type": "code",
   "execution_count": 16,
   "metadata": {},
   "outputs": [
    {
     "data": {
      "text/plain": [
       "array([[[55., 55., 55., 55., 55., 55.],\n",
       "        [55., 55., 55., 55., 55., 55.],\n",
       "        [55., 55., 55., 55., 55., 55.]],\n",
       "\n",
       "       [[55., 55., 55., 55., 55., 55.],\n",
       "        [55., 55., 55., 55., 55., 55.],\n",
       "        [55., 55., 55., 55., 55., 55.]]], dtype=float32)"
      ]
     },
     "execution_count": 16,
     "metadata": {},
     "output_type": "execute_result"
    }
   ],
   "source": [
    "np.full((2,3,6), 55, dtype = 'float32')"
   ]
  },
  {
   "cell_type": "code",
   "execution_count": 20,
   "metadata": {},
   "outputs": [
    {
     "data": {
      "text/plain": [
       "array([[[8, 8, 8],\n",
       "        [8, 8, 8]],\n",
       "\n",
       "       [[8, 8, 8],\n",
       "        [8, 8, 8]],\n",
       "\n",
       "       [[8, 8, 8],\n",
       "        [8, 8, 8]]])"
      ]
     },
     "execution_count": 20,
     "metadata": {},
     "output_type": "execute_result"
    }
   ],
   "source": [
    "#full_like function\n",
    "np.full_like(k, 8)"
   ]
  },
  {
   "cell_type": "code",
   "execution_count": 26,
   "metadata": {},
   "outputs": [
    {
     "data": {
      "text/plain": [
       "array([[0.74647404, 0.15059178, 0.16075717, 0.10968474, 0.90361743,\n",
       "        0.54050275, 0.96741724, 0.31144584, 0.39614057],\n",
       "       [0.5386517 , 0.9319036 , 0.05558478, 0.49887789, 0.73755253,\n",
       "        0.94876647, 0.81302434, 0.16487624, 0.4530041 ],\n",
       "       [0.36314055, 0.08288819, 0.90309444, 0.64376648, 0.23955308,\n",
       "        0.36666453, 0.71064856, 0.96663709, 0.47314714],\n",
       "       [0.75334431, 0.23428825, 0.24648922, 0.06127018, 0.07878376,\n",
       "        0.82199547, 0.7599474 , 0.57198811, 0.9732407 ]])"
      ]
     },
     "execution_count": 26,
     "metadata": {},
     "output_type": "execute_result"
    }
   ],
   "source": [
    "#random decimal numbers\n",
    "np.random.random((4,9))"
   ]
  },
  {
   "cell_type": "code",
   "execution_count": 28,
   "metadata": {},
   "outputs": [
    {
     "data": {
      "text/plain": [
       "array([[-2,  0],\n",
       "       [ 3, -1],\n",
       "       [ 1, -4],\n",
       "       [-3,  3]])"
      ]
     },
     "execution_count": 28,
     "metadata": {},
     "output_type": "execute_result"
    }
   ],
   "source": [
    "#random interger values\n",
    "np.random.randint(-4,4, size=(4,2))"
   ]
  },
  {
   "cell_type": "code",
   "execution_count": 29,
   "metadata": {},
   "outputs": [
    {
     "data": {
      "text/plain": [
       "array([[1., 0., 0., 0., 0.],\n",
       "       [0., 1., 0., 0., 0.],\n",
       "       [0., 0., 1., 0., 0.],\n",
       "       [0., 0., 0., 1., 0.],\n",
       "       [0., 0., 0., 0., 1.]])"
      ]
     },
     "execution_count": 29,
     "metadata": {},
     "output_type": "execute_result"
    }
   ],
   "source": [
    "#identity matrix\n",
    "np.identity(5)"
   ]
  },
  {
   "cell_type": "code",
   "execution_count": 35,
   "metadata": {},
   "outputs": [
    {
     "data": {
      "text/plain": [
       "array([[1, 1, 1, 1, 1],\n",
       "       [1, 0, 0, 0, 1],\n",
       "       [1, 0, 9, 0, 1],\n",
       "       [1, 0, 0, 0, 1],\n",
       "       [1, 1, 1, 1, 1]], dtype=int16)"
      ]
     },
     "execution_count": 35,
     "metadata": {},
     "output_type": "execute_result"
    }
   ],
   "source": [
    "tarr = np.ones((5,5), dtype='int16')\n",
    "tarr\n",
    "tarrz = np.zeros((3,3), dtype='int16')\n",
    "tarrz\n",
    "tarrz[1,1]=9\n",
    "tarrz\n",
    "tarr[1:4, 1:4] = tarrz\n",
    "tarr"
   ]
  },
  {
   "cell_type": "code",
   "execution_count": 40,
   "metadata": {},
   "outputs": [
    {
     "data": {
      "text/plain": [
       "array([1, 7, 5])"
      ]
     },
     "execution_count": 40,
     "metadata": {},
     "output_type": "execute_result"
    }
   ],
   "source": [
    "a = np.array([1, 3, 5])\n",
    "b = a.copy()\n",
    "b[1] = 7\n",
    "b"
   ]
  },
  {
   "cell_type": "code",
   "execution_count": 55,
   "metadata": {},
   "outputs": [
    {
     "data": {
      "text/plain": [
       "array([ 0.84147098,  0.14112001, -0.95892427])"
      ]
     },
     "execution_count": 55,
     "metadata": {},
     "output_type": "execute_result"
    }
   ],
   "source": [
    "na = np.array([3, 6, 1, 0, 4, 2])\n",
    "na +5\n",
    "na * 2\n",
    "np.sin(a)"
   ]
  },
  {
   "cell_type": "code",
   "execution_count": 57,
   "metadata": {},
   "outputs": [
    {
     "data": {
      "text/plain": [
       "array([[180, 180],\n",
       "       [180, 180],\n",
       "       [180, 180]])"
      ]
     },
     "execution_count": 57,
     "metadata": {},
     "output_type": "execute_result"
    }
   ],
   "source": [
    "#matrix multiplication\n",
    "m1 = np.full((3,5), 4)\n",
    "m2 = np.full((5,2), 9)\n",
    "np.matmul(m1, m2)"
   ]
  },
  {
   "cell_type": "code",
   "execution_count": 64,
   "metadata": {},
   "outputs": [
    {
     "data": {
      "text/plain": [
       "9"
      ]
     },
     "execution_count": 64,
     "metadata": {},
     "output_type": "execute_result"
    }
   ],
   "source": [
    "st = np.array([[2, 5, 9],\n",
    "               [4, 2, 1],\n",
    "               [0, 4, 1]])\n",
    "np.min(st)\n",
    "np.max(st)"
   ]
  },
  {
   "cell_type": "code",
   "execution_count": 66,
   "metadata": {},
   "outputs": [
    {
     "data": {
      "text/plain": [
       "array([ 6, 11, 11])"
      ]
     },
     "execution_count": 66,
     "metadata": {},
     "output_type": "execute_result"
    }
   ],
   "source": [
    "#sum all values\n",
    "np.sum(st, axis = 0)"
   ]
  },
  {
   "cell_type": "code",
   "execution_count": 70,
   "metadata": {},
   "outputs": [
    {
     "data": {
      "text/plain": [
       "array([[2, 5, 9, 4, 2, 1, 0, 4, 1]])"
      ]
     },
     "execution_count": 70,
     "metadata": {},
     "output_type": "execute_result"
    }
   ],
   "source": [
    "#reshape\n",
    "st.shape\n",
    "st1 = st.reshape((1,9))\n",
    "st1"
   ]
  },
  {
   "cell_type": "code",
   "execution_count": 73,
   "metadata": {},
   "outputs": [
    {
     "data": {
      "text/plain": [
       "array([[4, 3, 9, 1],\n",
       "       [5, 8, 9, 1],\n",
       "       [6, 7, 2, 3],\n",
       "       [3, 6, 1, 0],\n",
       "       [5, 8, 9, 1],\n",
       "       [6, 7, 2, 3],\n",
       "       [3, 6, 1, 0]])"
      ]
     },
     "execution_count": 73,
     "metadata": {},
     "output_type": "execute_result"
    }
   ],
   "source": [
    "#vertical stacking of one array on top of another\n",
    "a1 = np.array([4, 3, 9, 1])\n",
    "a2 = np.array([5, 8, 9, 1])\n",
    "a3 = np.array([[6, 7, 2, 3],\n",
    "             [3, 6, 1, 0]])\n",
    "np.vstack([a1, a2, a3, a2, a3])"
   ]
  },
  {
   "cell_type": "code",
   "execution_count": 91,
   "metadata": {},
   "outputs": [
    {
     "data": {
      "text/plain": [
       "array([[ 23.,  43.,   4.,   2.,  34., 646., 343., 446., 354.,  35.],\n",
       "       [  5.,   3.,  45.,  43.,  53., 453.,  54., 354.,  36., 435.],\n",
       "       [  4.,  35.,  43.,  43.,   5.,  43.,   5.,  34.,   3.,   4.],\n",
       "       [  4.,  54.,  56., 442.,  42.,  54.,  36.,  56., 546.,  45.]])"
      ]
     },
     "execution_count": 91,
     "metadata": {},
     "output_type": "execute_result"
    }
   ],
   "source": [
    "#loading data from a file\n",
    "filedt= np.genfromtxt('C:\\\\Users\\\\Admin\\\\Desktop\\\\numpydt.txt', delimiter = ',')\n",
    "\n",
    "filedt\n"
   ]
  },
  {
   "cell_type": "code",
   "execution_count": 87,
   "metadata": {},
   "outputs": [
    {
     "data": {
      "text/plain": [
       "array([[False, False, False, False, False,  True,  True,  True,  True,\n",
       "        False],\n",
       "       [False, False, False, False,  True,  True,  True,  True, False,\n",
       "         True],\n",
       "       [False, False, False, False, False, False, False, False, False,\n",
       "        False],\n",
       "       [False,  True,  True,  True, False,  True, False,  True,  True,\n",
       "        False]])"
      ]
     },
     "execution_count": 87,
     "metadata": {},
     "output_type": "execute_result"
    }
   ],
   "source": [
    "#ADVANCED INDEXING AND BOOLEAN MASKING\n",
    "\n",
    "filedt>50"
   ]
  },
  {
   "cell_type": "code",
   "execution_count": 94,
   "metadata": {},
   "outputs": [
    {
     "data": {
      "text/plain": [
       "array([ 5., 53.])"
      ]
     },
     "execution_count": 94,
     "metadata": {},
     "output_type": "execute_result"
    }
   ],
   "source": [
    "filedt[filedt>50]\n"
   ]
  },
  {
   "cell_type": "code",
   "execution_count": 96,
   "metadata": {},
   "outputs": [
    {
     "data": {
      "text/plain": [
       "array([  5.,  53., 354.])"
      ]
     },
     "execution_count": 96,
     "metadata": {},
     "output_type": "execute_result"
    }
   ],
   "source": [
    "## WE CAN INDEX WITH  LIST IN NUMPY\n",
    "filedt[[1], [0, 4, 7]]"
   ]
  },
  {
   "cell_type": "code",
   "execution_count": 101,
   "metadata": {},
   "outputs": [
    {
     "name": "stdout",
     "output_type": "stream",
     "text": [
      "[[ 23.  43.   4.   2.  34. 646. 343. 446. 354.  35.]\n",
      " [  5.   3.  45.  43.  53. 453.  54. 354.  36. 435.]\n",
      " [  4.  35.  43.  43.   5.  43.   5.  34.   3.   4.]\n",
      " [  4.  54.  56. 442.  42.  54.  36.  56. 546.  45.]]\n",
      "[[ True  True  True  True  True False False False False  True]\n",
      " [ True  True  True  True False False False False  True False]\n",
      " [ True  True  True  True  True  True  True  True  True  True]\n",
      " [ True False False False  True False  True False False  True]]\n"
     ]
    }
   ],
   "source": [
    "#print on conditions\n",
    "print(filedt)\n",
    "print((~(filedt>50) & (filedt<100)))"
   ]
  },
  {
   "cell_type": "code",
   "execution_count": null,
   "metadata": {},
   "outputs": [],
   "source": []
  }
 ],
 "metadata": {
  "kernelspec": {
   "display_name": "Python 3",
   "language": "python",
   "name": "python3"
  },
  "language_info": {
   "codemirror_mode": {
    "name": "ipython",
    "version": 3
   },
   "file_extension": ".py",
   "mimetype": "text/x-python",
   "name": "python",
   "nbconvert_exporter": "python",
   "pygments_lexer": "ipython3",
   "version": "3.7.4"
  }
 },
 "nbformat": 4,
 "nbformat_minor": 2
}
