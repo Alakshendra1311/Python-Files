{
 "cells": [
  {
   "cell_type": "code",
   "execution_count": 11,
   "metadata": {},
   "outputs": [
    {
     "data": {
      "text/plain": [
       "Info\n",
       "Grade              12\n",
       "CGPA               10\n",
       "Name       Alaksendra\n",
       "Surname         Singh\n",
       "dtype: object"
      ]
     },
     "execution_count": 11,
     "metadata": {},
     "output_type": "execute_result"
    }
   ],
   "source": [
    "import pandas as pd\n",
    "#sr = pd.Series([12,4.2, \"Alaksendra\", \"Singh\"], index=[\"Grade\", \"CGPA\", \"Name\", \"Surname\"])\n",
    "#sr\n",
    "sr = pd.Series({\"Grade\": 12,\"CGPA\": 10, \"Name\":\"Alaksendra\", \"Surname\": \"Singh\"})\n",
    "#sr\n",
    "#sr[\"Grade\"]\n",
    "#sr.index\n",
    "sr.index.name = \"Info\"\n",
    "sr"
   ]
  }
 ],
 "metadata": {
  "kernelspec": {
   "display_name": "Python 3",
   "language": "python",
   "name": "python3"
  },
  "language_info": {
   "codemirror_mode": {
    "name": "ipython",
    "version": 3
   },
   "file_extension": ".py",
   "mimetype": "text/x-python",
   "name": "python",
   "nbconvert_exporter": "python",
   "pygments_lexer": "ipython3",
   "version": "3.7.4"
  }
 },
 "nbformat": 4,
 "nbformat_minor": 2
}
