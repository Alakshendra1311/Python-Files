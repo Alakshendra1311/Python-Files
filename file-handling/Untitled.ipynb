{
 "cells": [
  {
   "cell_type": "code",
   "execution_count": 5,
   "metadata": {},
   "outputs": [],
   "source": [
    "#creating a file and ading some lines\n",
    "with open('demo6.txt', 'x') as f:\n",
    "    f.write('Hello World')\n",
    "    f.write('\\nThis is programming')\n",
    "    f.write('\\nYou are in file handling')\n",
    "    \n"
   ]
  },
  {
   "cell_type": "code",
   "execution_count": 6,
   "metadata": {},
   "outputs": [
    {
     "name": "stdout",
     "output_type": "stream",
     "text": [
      "Hello World\n",
      "This is programming\n",
      "You are in file handling\n"
     ]
    }
   ],
   "source": [
    "#reading the lines\n",
    "with open('demo6.txt', 'r') as f:\n",
    "    print(f.read())"
   ]
  },
  {
   "cell_type": "code",
   "execution_count": 7,
   "metadata": {},
   "outputs": [
    {
     "name": "stdout",
     "output_type": "stream",
     "text": [
      "Hello World\n",
      "\n",
      "This is programming\n",
      "\n",
      "You are in file handling\n"
     ]
    }
   ],
   "source": [
    "#memory efficient way it read line by line\n",
    "with open('demo6.txt', 'r') as fl:\n",
    "    for line in fl:\n",
    "        print(line)"
   ]
  },
  {
   "cell_type": "code",
   "execution_count": 9,
   "metadata": {},
   "outputs": [],
   "source": [
    "#append mode\n",
    "with open('demo6.txt', 'a') as fa:\n",
    "    fa.write('File handling has 4 modes')\n",
    "    fa.write('\\nRead, write, append and create')\n",
    "    "
   ]
  },
  {
   "cell_type": "code",
   "execution_count": 11,
   "metadata": {},
   "outputs": [
    {
     "name": "stdout",
     "output_type": "stream",
     "text": [
      "['Hello World\\n', 'This is programming\\n', 'You are in file handlingFile handling has 4 modes\\n', 'Read, write, append and create']\n"
     ]
    }
   ],
   "source": [
    "with open('demo6.txt', 'r') as fr:\n",
    "    print(fr.readlines())"
   ]
  },
  {
   "cell_type": "code",
   "execution_count": null,
   "metadata": {},
   "outputs": [],
   "source": []
  }
 ],
 "metadata": {
  "kernelspec": {
   "display_name": "Python 3",
   "language": "python",
   "name": "python3"
  },
  "language_info": {
   "codemirror_mode": {
    "name": "ipython",
    "version": 3
   },
   "file_extension": ".py",
   "mimetype": "text/x-python",
   "name": "python",
   "nbconvert_exporter": "python",
   "pygments_lexer": "ipython3",
   "version": "3.7.4"
  }
 },
 "nbformat": 4,
 "nbformat_minor": 2
}
